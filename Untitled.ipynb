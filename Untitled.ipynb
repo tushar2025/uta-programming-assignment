{
 "cells": [
  {
   "cell_type": "markdown",
   "metadata": {},
   "source": [
    "## Question 1 \n",
    "\n",
    "### Rock, Paper, Scissors (30 points)"
   ]
  },
  {
   "cell_type": "markdown",
   "metadata": {},
   "source": [
    "#### Function to get user input. Four choices are given."
   ]
  },
  {
   "cell_type": "code",
   "execution_count": 1,
   "metadata": {},
   "outputs": [],
   "source": [
    "def get_user_input(round_count):\n",
    "    print \"\\nRound {}\\n\".format(str(round_count+1))\n",
    "    time.sleep(2)\n",
    "    print \"Computer has chosen its option\"\n",
    "    time.sleep(1)\n",
    "    print \"Your turn...\\n\\n\"\n",
    "    time.sleep(1)\n",
    "    print \"What do you want to choose:\"\n",
    "    print \"Enter 1 for Rock\"\n",
    "    print \"Enter 2 for Paper\"\n",
    "    print \"Enter 3 for Scissors\"\n",
    "    print \"Enter 4 to Quit\"\n",
    "    return int(raw_input(\"Enter here: \"))"
   ]
  },
  {
   "cell_type": "markdown",
   "metadata": {},
   "source": [
    "#### This function lets computer choose its option. Computer makes a choice in one of the following two ways:\n",
    "#### 1. Until 5 rounds are completed, computer makes a choice in a random fashion, no bias is introduced till then."
   ]
  },
  {
   "cell_type": "code",
   "execution_count": null,
   "metadata": {},
   "outputs": [],
   "source": [
    "def get_computer_input(round_count, user_counts):\n",
    "    if round_count < 5: #We will wait for 5 rounds to introduce computer bias. Until the 6th round, computer will choose randomly\n",
    "        output = get_random_input() #For computer to pick an option randomly\n",
    "    else: #After 5 rounds\n",
    "        if(random.random<=0.5): #We want to introduce another random element. After 5 rounds, computer will randomly choose to either use bias to choose an option or to be random\n",
    "            #If condition is statisfied, computer will be biased\n",
    "            rock_c = user_counts['Rock'] #get current count of times user has chosen rock\n",
    "            paper_c = user_counts['Paper'] #get current count of times user has chosen paper\n",
    "            scissors_c = user_counts['Scissors'] #get current count of times user has chosen scissors\n",
    "            if(rock_c==paper_c==scissors_c): #If all three are equally probable, computer will be random\n",
    "                output = get_random_input()\n",
    "            elif((rock_c==paper_c!=scissors_c)and(scissors_c<rock_c)): #If any two are equal and greater than third\n",
    "                output = get_random_input_for_two(\"Rock\",\"Paper\")\n",
    "            elif((rock_c==paper_c!=scissors_c)and(scissors_c>rock_c)): #If any two are equal and less than third\n",
    "                output = \"Scissors\"\n",
    "            elif((rock_c!=paper_c==scissors_c)and(rock_c<paper_c)): #If any two are equal and greater than third\n",
    "                output = get_random_input_for_two(\"Scissors\",\"Paper\")\n",
    "            elif((rock_c==paper_c!=scissors_c)and(rock_c>paper_c)): #If any two are equal and less than third\n",
    "                output = \"Rock\"\n",
    "            elif((rock_c==scissors_c!=paper_c)and(paper_c<rock_c)): #If any two are equal and greater than third\n",
    "                output = get_random_input_for_two(\"Rock\",\"Scissors\")\n",
    "            elif((rock_c==paper_c!=scissors_c)and(paper_c>rock_c)): #If any two are equal and less than third\n",
    "                output = \"Paper\"\n",
    "            else: #If all three are unequal, computer with choose the most probable option\n",
    "                output = user_counts.keys()[user_counts.values().index(max(rock_c,paper_c,scissors_c))]         \n",
    "        else: #If consition is not statisfied, computer will be random\n",
    "            output = get_random_input()\n",
    "    return output"
   ]
  }
 ],
 "metadata": {
  "kernelspec": {
   "display_name": "Python 2",
   "language": "python",
   "name": "python2"
  },
  "language_info": {
   "codemirror_mode": {
    "name": "ipython",
    "version": 2
   },
   "file_extension": ".py",
   "mimetype": "text/x-python",
   "name": "python",
   "nbconvert_exporter": "python",
   "pygments_lexer": "ipython2",
   "version": "2.7.15"
  }
 },
 "nbformat": 4,
 "nbformat_minor": 2
}
