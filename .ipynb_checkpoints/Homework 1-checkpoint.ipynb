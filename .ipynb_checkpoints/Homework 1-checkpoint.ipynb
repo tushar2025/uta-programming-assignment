{
 "cells": [
  {
   "cell_type": "markdown",
   "metadata": {},
   "source": [
    "## Question 1 \n",
    "\n",
    "### Rock, Paper, Scissors"
   ]
  },
  {
   "cell_type": "markdown",
   "metadata": {},
   "source": [
    "#### Function to get user input. Four choices are given."
   ]
  },
  {
   "cell_type": "code",
   "execution_count": null,
   "metadata": {},
   "outputs": [],
   "source": [
    "def get_user_input(round_count):\n",
    "    print \"\\nRound {}\\n\".format(str(round_count+1))\n",
    "    time.sleep(2)\n",
    "    print \"Computer has chosen its option\"\n",
    "    time.sleep(1)\n",
    "    print \"Your turn...\\n\\n\"\n",
    "    time.sleep(1)\n",
    "    print \"What do you want to choose:\"\n",
    "    print \"Enter 1 for Rock\"\n",
    "    print \"Enter 2 for Paper\"\n",
    "    print \"Enter 3 for Scissors\"\n",
    "    print \"Enter 4 to Quit\"\n",
    "    return int(raw_input(\"Enter here: \"))"
   ]
  },
  {
   "cell_type": "markdown",
   "metadata": {},
   "source": [
    "#### This function lets computer choose its option. Until 5 rounds are completed, computer makes a choice in a random fashion, no bias is introduced till then."
   ]
  },
  {
   "cell_type": "code",
   "execution_count": null,
   "metadata": {},
   "outputs": [],
   "source": [
    "def get_computer_input(round_count, user_counts):\n",
    "    print round_count\n",
    "    if round_count < 5: #We will wait for 5 rounds to introduce computer bias. Until the 6th round, computer will choose randomly\n",
    "        output = get_random_input() #For computer to pick an option randomly\n",
    "    else: #After 5 rounds\n",
    "        rock_c = user_counts['Rock'] #get current count of times user has chosen rock\n",
    "        paper_c = user_counts['Paper'] #get current count of times user has chosen paper\n",
    "        scissors_c = user_counts['Scissors'] #get current count of times user has chosen scissors\n",
    "        if(rock_c==paper_c==scissors_c): #If all three are equally probable, computer will be random\n",
    "            output = get_random_input()\n",
    "        elif((rock_c==paper_c!=scissors_c)and(scissors_c<rock_c)): #If any two are equal and greater than third\n",
    "            output = \"Paper\"\n",
    "        elif((rock_c==paper_c!=scissors_c)and(scissors_c>rock_c)): #If any two are equal and less than third\n",
    "            output = \"Rock\"\n",
    "        elif((rock_c!=paper_c==scissors_c)and(rock_c<paper_c)): #If any two are equal and greater than third\n",
    "            output = \"Scissors\"\n",
    "        elif((rock_c==paper_c!=scissors_c)and(rock_c>paper_c)): #If any two are equal and less than third\n",
    "            output = \"Paper\"\n",
    "        elif((rock_c==scissors_c!=paper_c)and(paper_c<rock_c)): #If any two are equal and greater than third\n",
    "            output = \"Rock\"\n",
    "        elif((rock_c==paper_c!=scissors_c)and(paper_c>rock_c)): #If any two are equal and less than third\n",
    "            output = \"Scissors\"\n",
    "        else: #If all three are unequal, computer with counter the most probable option\n",
    "            if user_counts.keys()[user_counts.values().index(max(rock_c,paper_c,scissors_c))] == 'Rock':\n",
    "                output = \"Paper\"\n",
    "            elif user_counts.keys()[user_counts.values().index(max(rock_c,paper_c,scissors_c))] == 'Paper':\n",
    "                output = \"Scissors\"\n",
    "            else:\n",
    "                output = \"Rock\"\n",
    "    return output"
   ]
  },
  {
   "cell_type": "markdown",
   "metadata": {},
   "source": [
    "#### This function creates a random input for computer"
   ]
  },
  {
   "cell_type": "code",
   "execution_count": null,
   "metadata": {},
   "outputs": [],
   "source": [
    "def get_random_input():\n",
    "    computer = random.randint(1,3)\n",
    "    if computer == 1:\n",
    "        output = \"Rock\"\n",
    "    elif computer == 2:\n",
    "        output = \"Paper\"\n",
    "    elif computer == 3:\n",
    "        output = \"Scissors\"\n",
    "    return output"
   ]
  },
  {
   "cell_type": "markdown",
   "metadata": {},
   "source": [
    "#### This function gets randon input when computer is using bias and 2 out of three choices have equal probability to be chosen by user"
   ]
  },
  {
   "cell_type": "code",
   "execution_count": null,
   "metadata": {},
   "outputs": [],
   "source": [
    "def get_random_input_for_two(a,b):\n",
    "    computer = random.randint(1,2)\n",
    "    if computer == 1:\n",
    "        output = a\n",
    "    else:\n",
    "        output = b\n",
    "    return output"
   ]
  },
  {
   "cell_type": "markdown",
   "metadata": {},
   "source": [
    "#### This function tells the result of a round i.e. whether the computer or user has won"
   ]
  },
  {
   "cell_type": "code",
   "execution_count": null,
   "metadata": {},
   "outputs": [],
   "source": [
    "def get_result(computer, user, score_computer, score_user, games):\n",
    "    if((computer == \"Rock\" and user == \"Scissors\") or (computer == \"Scissors\" and user == \"Paper\") or \n",
    "        (computer == \"Paper\" and user == \"Rock\")):\n",
    "        score_computer += 1\n",
    "        result = \"Computer Wins!!!\"\n",
    "        return result, score_computer, score_user, games+1\n",
    "    if((user == \"Rock\" and computer == \"Scissors\") or (user == \"Scissors\" and computer == \"Paper\") or \n",
    "        (user == \"Paper\" and computer == \"Rock\")):\n",
    "        score_user += 1\n",
    "        result = \"You Win!!!\"\n",
    "        return result, score_computer, score_user, games+1\n",
    "    else:\n",
    "        result = \"It's a draw!!!\"\n",
    "        return result, score_computer, score_user, games+1"
   ]
  },
  {
   "cell_type": "markdown",
   "metadata": {},
   "source": [
    "#### This function gets the final result when users decides to quit"
   ]
  },
  {
   "cell_type": "code",
   "execution_count": null,
   "metadata": {},
   "outputs": [],
   "source": [
    "def get_final_result(games, computer_score, user_score):\n",
    "    print \"You played {} games\".format(games)\n",
    "    print \"You won {} games\".format(user_score)"
   ]
  },
  {
   "cell_type": "markdown",
   "metadata": {},
   "source": [
    "#### This is the main function from where the code starts to run. Main function controls the entire code."
   ]
  },
  {
   "cell_type": "code",
   "execution_count": null,
   "metadata": {
    "scrolled": false
   },
   "outputs": [],
   "source": [
    "def main():\n",
    "    print \"Are you ready?\\n\"\n",
    "    time.sleep(1) #Used the timer to make the game more realistic with pauses\n",
    "    print \"3\"\n",
    "    time.sleep(1)\n",
    "    print \"2\"\n",
    "    time.sleep(1)\n",
    "    print \"1\\n\"\n",
    "    time.sleep(1)\n",
    "    print \"Let the Game of Hands begin!!!\\n\"\n",
    "    time.sleep(2)\n",
    "    round_count = 0 #Will be used to keep a track of what round is going on irrecstective of whether it is completed or not\n",
    "    games = 0 #Will keep a count of number of games completed\n",
    "    score_computer = 0 #Will keep track of number of time computer wins\n",
    "    score_user = 0 #Will keep track of number of time user wins\n",
    "    user_counts = {'Rock':0, 'Paper':0, 'Scissors':0} #Will keep count of what option user chooses every time for the computer to make biased choices\n",
    "    computer = get_computer_input(round_count,user_counts) #Function is used to get input from computer\n",
    "    user = get_user_input(round_count) #Function is used to get input from user\n",
    "    #This loop is used to run the code until user quits the game i.e. select option 4\n",
    "    while user!=4:\n",
    "        if user == 1: #If user chooses Rock\n",
    "            output_value = \"Rock\"\n",
    "            result, score_computer, score_user, games = get_result(computer, output_value, score_computer, score_user, games) #Function is used to get result of this round\n",
    "            round_count += 1 #Increment round\n",
    "            user_counts[output_value] = user_counts[output_value] + 1 #Increment choice count by 1\n",
    "            print \"\\nComputer: {}  You: {}\".format(computer, output_value) #Display what computer and user chose\n",
    "            print result #Display the result\n",
    "        elif user == 2: #If user chooses Paper\n",
    "            output_value = \"Paper\"\n",
    "            result, score_computer, score_user, games = get_result(computer, output_value, score_computer, score_user, games) #Function is used to get result of this round\n",
    "            round_count += 1 #Increment round\n",
    "            user_counts[output_value] = user_counts[output_value] + 1 #Increment choice count by 1\n",
    "            print \"\\nComputer: {}  You: {}\".format(computer, output_value) #Display what computer and user chose\n",
    "            print result #Display the result\n",
    "        elif user == 3: #If user chooses Scissors\n",
    "            output_value = \"Scissors\"\n",
    "            result, score_computer, score_user, games = get_result(computer, output_value, score_computer, score_user, games) #Function is used to get result of this round\n",
    "            round_count += 1 #Increment round\n",
    "            user_counts[output_value] = user_counts[output_value] + 1 #Increment choice count by 1\n",
    "            print \"\\nComputer: {}  You: {}\".format(computer, output_value) #Display what computer and user chose\n",
    "            print result #Display the result\n",
    "        else: #If user chooses incorrect option\n",
    "            print \"Incorrect choice!\"\n",
    "            print \"Please choose again\\n\"\n",
    "            \n",
    "        computer = get_computer_input(round_count, user_counts)\n",
    "        user = get_user_input(round_count)\n",
    "    #End of game\n",
    "    print \"\\nThank you for playing Game of Hands!\\n\"\n",
    "    print \"Here is you final score\\n\"\n",
    "    print \"\\n*Drum Rolls*\\n\"\n",
    "    time.sleep(2)\n",
    "    get_final_result(games, score_computer, score_user) #Function is used to display final scores\n",
    "    print \"\\nHope to see you soon!!\\nBye\"\n",
    "\n",
    "if __name__ == \"__main__\":\n",
    "    import time\n",
    "    import random\n",
    "    main()"
   ]
  },
  {
   "cell_type": "markdown",
   "metadata": {},
   "source": [
    "## Question 2\n",
    "\n",
    "### Voters of Florida"
   ]
  },
  {
   "cell_type": "code",
   "execution_count": null,
   "metadata": {},
   "outputs": [],
   "source": [
    "def main():\n",
    "    data=open(\"Data/FloridaVoters.html\", \"r\").read() #Open and read the file\n",
    "    data_table = re.split('table', data) #Split data on keyword \"Table\"\n",
    "    result = re.findall('(?<=\\<td\\>)[a-zA-Z0-9,\\s\\-\\.]+(?=\\<\\/td\\>)', data) #Find relevant data between tags <td></td>\n",
    "    result = [element.replace(',', '') for element in result] #Replaces all commas in the extracted data\n",
    "\n",
    "    final_list = list() #Final list of lists which will comtain each row to be displayed\n",
    "    for i in range(0,len(result)-1,6): #Iterate over the list with step size of 6\n",
    "        final_list.append([result[i],int(result[i+1]),int(result[i+2])]) #Create desierd list to be printed\n",
    "\n",
    "    final_list.sort(key=lambda x: x[2]) #Sort list based on Democratic votes\n",
    "\n",
    "    for i in final_list: #Print the list\n",
    "        print '{} {} {}'.format(i[0],i[1],i[2])\n",
    "    \n",
    "if __name__ == \"__main__\":\n",
    "    import re\n",
    "    main()"
   ]
  },
  {
   "cell_type": "markdown",
   "metadata": {},
   "source": [
    "## Question 3\n",
    "\n",
    "### The Google of Quotes"
   ]
  },
  {
   "cell_type": "markdown",
   "metadata": {},
   "source": [
    "#### This function splits quotes into words"
   ]
  },
  {
   "cell_type": "code",
   "execution_count": null,
   "metadata": {},
   "outputs": [],
   "source": [
    "def words_from_quote(quote):\n",
    "    quote_word_list = re.split(\"[\\s\\.,-\\?;`]\",quote)\n",
    "    while '' in quote_word_list: quote_word_list.remove('')\n",
    "    quote_word_list = [elements.lower() for elements in quote_word_list]\n",
    "    return quote_word_list"
   ]
  },
  {
   "cell_type": "markdown",
   "metadata": {},
   "source": [
    "#### This function creates the Postings List"
   ]
  },
  {
   "cell_type": "code",
   "execution_count": null,
   "metadata": {},
   "outputs": [],
   "source": [
    "def get_postings_list(data_list_new):\n",
    "    posting_list = {}\n",
    "    for quote in data_list_new:\n",
    "        words_list = words_from_quote(quote)\n",
    "        word_count_dict = {}\n",
    "        for j in words_list:\n",
    "            if j in word_count_dict.keys():\n",
    "                word_count_dict[j] +=1\n",
    "            else:\n",
    "                word_count_dict[j] = 1\n",
    "        posting_list[quote] = word_count_dict\n",
    "    return posting_list"
   ]
  },
  {
   "cell_type": "markdown",
   "metadata": {},
   "source": [
    "#### This function creates the Reverse Postings List"
   ]
  },
  {
   "cell_type": "code",
   "execution_count": null,
   "metadata": {},
   "outputs": [],
   "source": [
    "def get_reverse_postings_list(posting_list):\n",
    "    reverse_posting_list = {}\n",
    "    for i in posting_list.keys():\n",
    "        for j in posting_list[i]:\n",
    "            if j in reverse_posting_list.keys():\n",
    "                reverse_posting_list[j].update({i:posting_list[i][j]})\n",
    "            else:\n",
    "                reverse_posting_list[j] = {i:posting_list[i][j]}\n",
    "    return reverse_posting_list"
   ]
  },
  {
   "cell_type": "markdown",
   "metadata": {},
   "source": [
    "#### This function computes TF-IDF"
   ]
  },
  {
   "cell_type": "code",
   "execution_count": null,
   "metadata": {},
   "outputs": [],
   "source": [
    "def compute_tfidf(word, quote, posting_list, reverse_posting_list):\n",
    "    return ((float(posting_list[quote][word])/max(posting_list[quote].values()))*\n",
    "            (math.log(len(posting_list.keys())/float(len(reverse_posting_list[word].keys())))))"
   ]
  },
  {
   "cell_type": "markdown",
   "metadata": {},
   "source": [
    "#### This functions searches for a word in all the quotes, calculates TF-IDF and return a dictionary"
   ]
  },
  {
   "cell_type": "code",
   "execution_count": null,
   "metadata": {},
   "outputs": [],
   "source": [
    "def quote_search(word, posting_list, reverse_posting_list):\n",
    "    result = {}\n",
    "    for i in reverse_posting_list[word].keys():\n",
    "        result.update({i:compute_tfidf(word,i,posting_list,reverse_posting_list)})\n",
    "    return result"
   ]
  },
  {
   "cell_type": "markdown",
   "metadata": {},
   "source": [
    "#### This functions searches for list of words in all the quotes, calculates TF-IDF and return a dictionary"
   ]
  },
  {
   "cell_type": "code",
   "execution_count": null,
   "metadata": {},
   "outputs": [],
   "source": [
    "def multiple_quote_search(words_list, posting_list, reverse_posting_list):\n",
    "    result = {}\n",
    "    for quote in posting_list.keys():\n",
    "        tfidf_sum = 0\n",
    "        for word in words_list:\n",
    "            if word in posting_list[quote]:\n",
    "                tfidf = compute_tfidf(word, quote, posting_list, reverse_posting_list)\n",
    "                tfidf_sum += tfidf\n",
    "            else:\n",
    "                pass\n",
    "        if tfidf_sum != 0:\n",
    "            result.update({quote:tfidf_sum})\n",
    "        else:\n",
    "            pass\n",
    "    return result"
   ]
  },
  {
   "cell_type": "markdown",
   "metadata": {},
   "source": [
    "#### This is the main function from where the code starts to run. Main function controls the entire code."
   ]
  },
  {
   "cell_type": "code",
   "execution_count": null,
   "metadata": {
    "scrolled": false
   },
   "outputs": [],
   "source": [
    "def main():\n",
    "    quotes = file(\"Data/quotes.txt\",\"r\").read()\n",
    "    quotes_list = quotes.split(\"\\r\\n\")\n",
    "    quotes_list.pop()\n",
    "\n",
    "    #Part A\n",
    "    quote_speaker_list = list()\n",
    "    for i in range(0,len(quotes_list),2):\n",
    "        quote_speaker_list.append(quotes_list[i]+\" - \"+quotes_list[i+1])\n",
    "        \n",
    "    #Part B\n",
    "    print \"\"\"These are the words from \"{}\" quote\\n\"\"\".format(quote_speaker_list[0])\n",
    "    print words_from_quote(quote_speaker_list[0])\n",
    "\n",
    "    #Part C\n",
    "    posting_list = get_postings_list(quote_speaker_list)\n",
    "    print \"\"\"\\n\\nGiven below is the Postings List for \"{}\" quote\\n\"\"\".format(posting_list.keys()[1])\n",
    "    print \"{'\"+\"{}': {}{}\".format(posting_list.keys()[1],posting_list[posting_list.keys()[1]],\"}\")\n",
    "    \n",
    "    #Part D\n",
    "    reverse_posting_list = get_reverse_postings_list(posting_list)\n",
    "    print \"\"\"\\n\\nGiven below is the Reverse Postings List for \"{}\" word\\n\"\"\".format(reverse_posting_list.keys()[1])\n",
    "    print \"{'\"+\"{}': {}{}\".format(reverse_posting_list.keys()[1],reverse_posting_list[reverse_posting_list.keys()[1]],\"}\")\n",
    "    \n",
    "    #Part E\n",
    "    print \"\\n\\nGiven below is the TF-IDF for word 'personally' in 'I always cheer up immensely if an attack is particularly wounding because I think, well, if they attack one personally, it means they have not a single political argument left. - Margaret Thatcher' quote\"\n",
    "    print \"\\nTF-IDF: {}\".format(compute_tfidf('personally','I always cheer up immensely if an attack is particularly wounding because I think, well, if they attack one personally, it means they have not a single political argument left. - Margaret Thatcher',posting_list,reverse_posting_list))\n",
    "    \n",
    "    #Part F\n",
    "    print \"\\n\\nGiven below is the TF-IDF for word 'personally'\\n\"\n",
    "    print quote_search('personally', posting_list,reverse_posting_list)\n",
    "    \n",
    "    #Part G\n",
    "    print \"\\n\\nGiven below is the TF-IDF for words 'personally and cheer'\\n\"\n",
    "    print multiple_quote_search(['personally','cheer'], posting_list,reverse_posting_list)\n",
    "    \n",
    "if __name__ == \"__main__\":\n",
    "    import math\n",
    "    main()"
   ]
  }
 ],
 "metadata": {
  "kernelspec": {
   "display_name": "Python 2",
   "language": "python",
   "name": "python2"
  },
  "language_info": {
   "codemirror_mode": {
    "name": "ipython",
    "version": 2
   },
   "file_extension": ".py",
   "mimetype": "text/x-python",
   "name": "python",
   "nbconvert_exporter": "python",
   "pygments_lexer": "ipython2",
   "version": "2.7.15"
  }
 },
 "nbformat": 4,
 "nbformat_minor": 2
}
