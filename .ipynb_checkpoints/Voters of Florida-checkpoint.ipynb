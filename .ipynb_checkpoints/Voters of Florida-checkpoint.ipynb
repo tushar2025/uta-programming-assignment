{
 "cells": [
  {
   "cell_type": "code",
   "execution_count": null,
   "metadata": {},
   "outputs": [],
   "source": [
    "def main():\n",
    "    data=open(\"Data/FloridaVoters.html\", \"r\").read()\n",
    "    data_table = re.split('table', data)\n",
    "    result = re.findall('(?<=\\<td\\>)[a-zA-Z0-9,\\s\\-\\.]+(?=\\<\\/td\\>)', data)\n",
    "    result = [element.replace(',', '') for element in result]\n",
    "\n",
    "    final_list = list()\n",
    "    for i in range(0,len(result)-1,6):\n",
    "        final_list.append([result[i],int(result[i+1]),int(result[i+2])])\n",
    "\n",
    "    final_list.sort(key=lambda x: x[2]) \n",
    "\n",
    "    for i in final_list:\n",
    "        print '{} {} {}'.format(i[0],i[1],i[2])\n",
    "    \n",
    "if __name__ == \"__main__\":\n",
    "    import re\n",
    "    main()"
   ]
  }
 ],
 "metadata": {
  "kernelspec": {
   "display_name": "Python 2",
   "language": "python",
   "name": "python2"
  },
  "language_info": {
   "codemirror_mode": {
    "name": "ipython",
    "version": 2
   },
   "file_extension": ".py",
   "mimetype": "text/x-python",
   "name": "python",
   "nbconvert_exporter": "python",
   "pygments_lexer": "ipython2",
   "version": "2.7.15"
  }
 },
 "nbformat": 4,
 "nbformat_minor": 2
}
